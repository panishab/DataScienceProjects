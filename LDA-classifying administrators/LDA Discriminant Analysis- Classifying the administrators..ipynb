{
 "cells": [
  {
   "cell_type": "code",
   "execution_count": 1,
   "id": "81852311",
   "metadata": {},
   "outputs": [],
   "source": [
    "import numpy as np\n",
    "import pandas as pd\n",
    "from sklearn.model_selection import train_test_split\n",
    "from sklearn.preprocessing import MinMaxScaler\n",
    "from sklearn.discriminant_analysis import LinearDiscriminantAnalysis\n",
    "from sklearn.neural_network import MLPClassifier\n"
   ]
  },
  {
   "cell_type": "code",
   "execution_count": 2,
   "id": "b3761477",
   "metadata": {},
   "outputs": [],
   "source": [
    "#load dataset\n",
    "df_System = pd.read_csv(r\"C:\\Users\\anish\\Downloads\\SystemAdministrators.csv\")"
   ]
  },
  {
   "cell_type": "code",
   "execution_count": 3,
   "id": "ae90e8a8",
   "metadata": {},
   "outputs": [
    {
     "data": {
      "text/html": [
       "<div>\n",
       "<style scoped>\n",
       "    .dataframe tbody tr th:only-of-type {\n",
       "        vertical-align: middle;\n",
       "    }\n",
       "\n",
       "    .dataframe tbody tr th {\n",
       "        vertical-align: top;\n",
       "    }\n",
       "\n",
       "    .dataframe thead th {\n",
       "        text-align: right;\n",
       "    }\n",
       "</style>\n",
       "<table border=\"1\" class=\"dataframe\">\n",
       "  <thead>\n",
       "    <tr style=\"text-align: right;\">\n",
       "      <th></th>\n",
       "      <th>Experience</th>\n",
       "      <th>Training</th>\n",
       "      <th>Completed task</th>\n",
       "    </tr>\n",
       "  </thead>\n",
       "  <tbody>\n",
       "    <tr>\n",
       "      <th>0</th>\n",
       "      <td>10.9</td>\n",
       "      <td>4.0</td>\n",
       "      <td>Yes</td>\n",
       "    </tr>\n",
       "    <tr>\n",
       "      <th>1</th>\n",
       "      <td>9.9</td>\n",
       "      <td>4.0</td>\n",
       "      <td>Yes</td>\n",
       "    </tr>\n",
       "    <tr>\n",
       "      <th>2</th>\n",
       "      <td>10.4</td>\n",
       "      <td>6.0</td>\n",
       "      <td>Yes</td>\n",
       "    </tr>\n",
       "    <tr>\n",
       "      <th>3</th>\n",
       "      <td>13.7</td>\n",
       "      <td>6.0</td>\n",
       "      <td>Yes</td>\n",
       "    </tr>\n",
       "    <tr>\n",
       "      <th>4</th>\n",
       "      <td>9.4</td>\n",
       "      <td>8.0</td>\n",
       "      <td>Yes</td>\n",
       "    </tr>\n",
       "  </tbody>\n",
       "</table>\n",
       "</div>"
      ],
      "text/plain": [
       "   Experience  Training Completed task\n",
       "0        10.9       4.0            Yes\n",
       "1         9.9       4.0            Yes\n",
       "2        10.4       6.0            Yes\n",
       "3        13.7       6.0            Yes\n",
       "4         9.4       8.0            Yes"
      ]
     },
     "execution_count": 3,
     "metadata": {},
     "output_type": "execute_result"
    }
   ],
   "source": [
    "#looking the first few data\n",
    "df_System.head()"
   ]
  },
  {
   "cell_type": "code",
   "execution_count": 4,
   "id": "bfcf295f",
   "metadata": {},
   "outputs": [
    {
     "data": {
      "text/plain": [
       "No     60\n",
       "Yes    15\n",
       "Name: Completed task, dtype: int64"
      ]
     },
     "execution_count": 4,
     "metadata": {},
     "output_type": "execute_result"
    }
   ],
   "source": [
    "#counting the number of unquie  values from completed task \n",
    "df_System['Completed task'].value_counts()"
   ]
  },
  {
   "cell_type": "code",
   "execution_count": 5,
   "id": "d717b01a",
   "metadata": {},
   "outputs": [
    {
     "data": {
      "text/html": [
       "<div>\n",
       "<style scoped>\n",
       "    .dataframe tbody tr th:only-of-type {\n",
       "        vertical-align: middle;\n",
       "    }\n",
       "\n",
       "    .dataframe tbody tr th {\n",
       "        vertical-align: top;\n",
       "    }\n",
       "\n",
       "    .dataframe thead th {\n",
       "        text-align: right;\n",
       "    }\n",
       "</style>\n",
       "<table border=\"1\" class=\"dataframe\">\n",
       "  <thead>\n",
       "    <tr style=\"text-align: right;\">\n",
       "      <th></th>\n",
       "      <th>Experience</th>\n",
       "      <th>Training</th>\n",
       "    </tr>\n",
       "  </thead>\n",
       "  <tbody>\n",
       "    <tr>\n",
       "      <th>count</th>\n",
       "      <td>72.000000</td>\n",
       "      <td>73.000000</td>\n",
       "    </tr>\n",
       "    <tr>\n",
       "      <th>mean</th>\n",
       "      <td>6.893056</td>\n",
       "      <td>4.602740</td>\n",
       "    </tr>\n",
       "    <tr>\n",
       "      <th>std</th>\n",
       "      <td>2.256591</td>\n",
       "      <td>1.187197</td>\n",
       "    </tr>\n",
       "    <tr>\n",
       "      <th>min</th>\n",
       "      <td>3.600000</td>\n",
       "      <td>4.000000</td>\n",
       "    </tr>\n",
       "    <tr>\n",
       "      <th>25%</th>\n",
       "      <td>5.200000</td>\n",
       "      <td>4.000000</td>\n",
       "    </tr>\n",
       "    <tr>\n",
       "      <th>50%</th>\n",
       "      <td>6.450000</td>\n",
       "      <td>4.000000</td>\n",
       "    </tr>\n",
       "    <tr>\n",
       "      <th>75%</th>\n",
       "      <td>7.925000</td>\n",
       "      <td>4.000000</td>\n",
       "    </tr>\n",
       "    <tr>\n",
       "      <th>max</th>\n",
       "      <td>13.700000</td>\n",
       "      <td>8.000000</td>\n",
       "    </tr>\n",
       "  </tbody>\n",
       "</table>\n",
       "</div>"
      ],
      "text/plain": [
       "       Experience   Training\n",
       "count   72.000000  73.000000\n",
       "mean     6.893056   4.602740\n",
       "std      2.256591   1.187197\n",
       "min      3.600000   4.000000\n",
       "25%      5.200000   4.000000\n",
       "50%      6.450000   4.000000\n",
       "75%      7.925000   4.000000\n",
       "max     13.700000   8.000000"
      ]
     },
     "execution_count": 5,
     "metadata": {},
     "output_type": "execute_result"
    }
   ],
   "source": [
    "#looking for how datasets are described\n",
    "df_System.describe()"
   ]
  },
  {
   "cell_type": "code",
   "execution_count": 60,
   "id": "54061108",
   "metadata": {},
   "outputs": [],
   "source": [
    "#fill the missing values with backward values\n",
    "df_System=df_System.fillna(method='bfill')\n"
   ]
  },
  {
   "cell_type": "code",
   "execution_count": 61,
   "id": "a18d4b41",
   "metadata": {},
   "outputs": [
    {
     "data": {
      "text/plain": [
       "Experience        0\n",
       "Training          0\n",
       "Completed task    0\n",
       "dtype: int64"
      ]
     },
     "execution_count": 61,
     "metadata": {},
     "output_type": "execute_result"
    }
   ],
   "source": [
    "#check for the missing values\n",
    "df_System.isna().sum()"
   ]
  },
  {
   "cell_type": "code",
   "execution_count": 64,
   "id": "7ba4e908",
   "metadata": {},
   "outputs": [
    {
     "data": {
      "text/plain": [
       "Experience        float64\n",
       "Training          float64\n",
       "Completed task     object\n",
       "dtype: object"
      ]
     },
     "execution_count": 64,
     "metadata": {},
     "output_type": "execute_result"
    }
   ],
   "source": [
    "#look for the datatypes\n",
    "df_System.dtypes"
   ]
  },
  {
   "cell_type": "code",
   "execution_count": 65,
   "id": "268a857e",
   "metadata": {},
   "outputs": [],
   "source": [
    "#split data to predictors as X and targets as y\n",
    "X=df_System[['Experience','Training']]\n",
    "y=df_System['Completed task']"
   ]
  },
  {
   "cell_type": "code",
   "execution_count": 44,
   "id": "06d0519e",
   "metadata": {},
   "outputs": [
    {
     "data": {
      "text/plain": [
       "LinearDiscriminantAnalysis()"
      ]
     },
     "execution_count": 44,
     "metadata": {},
     "output_type": "execute_result"
    }
   ],
   "source": [
    "# build discrimanantanalysis model\n",
    "lda=LinearDiscriminantAnalysis()\n",
    "# using entire dataset for training data\n",
    "lda.fit(X,y)\n",
    "\n"
   ]
  },
  {
   "cell_type": "code",
   "execution_count": 66,
   "id": "d15d6105",
   "metadata": {},
   "outputs": [
    {
     "data": {
      "text/plain": [
       "array(['Yes', 'Yes', 'Yes', 'Yes', 'Yes', 'Yes', 'No', 'No', 'Yes', 'Yes',\n",
       "       'No', 'Yes', 'Yes', 'No', 'No', 'No', 'No', 'No', 'No', 'No', 'No',\n",
       "       'No', 'No', 'No', 'No', 'No', 'No', 'No', 'No', 'No', 'No', 'No',\n",
       "       'No', 'No', 'No', 'No', 'No', 'Yes', 'No', 'No', 'No', 'No', 'No',\n",
       "       'No', 'No', 'No', 'No', 'No', 'No', 'No', 'No', 'No', 'No', 'Yes',\n",
       "       'No', 'No', 'No', 'No', 'No', 'No', 'No', 'No', 'No', 'No', 'No',\n",
       "       'No', 'No', 'No', 'No', 'No'], dtype='<U3')"
      ]
     },
     "execution_count": 66,
     "metadata": {},
     "output_type": "execute_result"
    }
   ],
   "source": [
    "#make prediction on the training data\n",
    "y_pred=lda.predict(X)\n",
    "y_pred"
   ]
  },
  {
   "cell_type": "code",
   "execution_count": 67,
   "id": "16381dd6",
   "metadata": {},
   "outputs": [
    {
     "data": {
      "text/plain": [
       "array([[53,  2],\n",
       "       [ 5, 10]], dtype=int64)"
      ]
     },
     "execution_count": 67,
     "metadata": {},
     "output_type": "execute_result"
    }
   ],
   "source": [
    "#looking for the missclassified data \n",
    "from sklearn.metrics import confusion_matrix\n",
    "confusion_matrix(y,y_pred)"
   ]
  },
  {
   "cell_type": "code",
   "execution_count": 47,
   "id": "7e5acfdf",
   "metadata": {},
   "outputs": [
    {
     "data": {
      "text/plain": [
       "5"
      ]
     },
     "execution_count": 47,
     "metadata": {},
     "output_type": "execute_result"
    }
   ],
   "source": [
    "# Calculate the percentage of administrators who completed the tasks but are classified incorrectly\n",
    "misclassified_yes = sum((y == \"Yes\") & (y_pred == \"No\"))\n",
    "misclassified_yes\n"
   ]
  },
  {
   "cell_type": "code",
   "execution_count": 68,
   "id": "71bb12a3",
   "metadata": {},
   "outputs": [
    {
     "data": {
      "text/plain": [
       "33.333333333333336"
      ]
     },
     "execution_count": 68,
     "metadata": {},
     "output_type": "execute_result"
    }
   ],
   "source": [
    "total_completed = sum(y == \"Yes\")\n",
    "misclassification_rate = 100 * misclassified / total_completed\n",
    "misclassification_rate"
   ]
  },
  {
   "cell_type": "code",
   "execution_count": 69,
   "id": "a2bfa071",
   "metadata": {},
   "outputs": [
    {
     "name": "stdout",
     "output_type": "stream",
     "text": [
      "Percentage of administrators who completed the tasks but are classified incorrectly: 33.33%\n"
     ]
    }
   ],
   "source": [
    "print(f\"Percentage of administrators who completed the tasks but are classified incorrectly: {misclassification_rate:.2f}%\")"
   ]
  },
  {
   "cell_type": "code",
   "execution_count": 70,
   "id": "e5cefd41",
   "metadata": {},
   "outputs": [
    {
     "name": "stderr",
     "output_type": "stream",
     "text": [
      "C:\\Users\\anish\\anaconda3\\lib\\site-packages\\sklearn\\base.py:450: UserWarning: X does not have valid feature names, but LinearDiscriminantAnalysis was fitted with feature names\n",
      "  warnings.warn(\n",
      "C:\\Users\\anish\\anaconda3\\lib\\site-packages\\sklearn\\base.py:450: UserWarning: X does not have valid feature names, but LinearDiscriminantAnalysis was fitted with feature names\n",
      "  warnings.warn(\n"
     ]
    }
   ],
   "source": [
    "#2\n",
    "# Compute the classification score and class probabilities for an administrator with four months of experience and six credits of training\n",
    "new_admin = [[4, 6]]\n",
    "class_score = lda.decision_function(new_admin)\n",
    "class_probs = lda.predict_proba(new_admin)"
   ]
  },
  {
   "cell_type": "code",
   "execution_count": 71,
   "id": "4ae6e2c5",
   "metadata": {},
   "outputs": [
    {
     "name": "stdout",
     "output_type": "stream",
     "text": [
      "Classification score: [-5.64921329]\n",
      "Class probabilities: [[0.99649206 0.00350794]]\n"
     ]
    }
   ],
   "source": [
    "# Print the results\n",
    "print('Classification score:', class_score)\n",
    "print('Class probabilities:', class_probs)"
   ]
  },
  {
   "cell_type": "code",
   "execution_count": 72,
   "id": "4364f116",
   "metadata": {},
   "outputs": [
    {
     "data": {
      "text/plain": [
       "LinearDiscriminantAnalysis()"
      ]
     },
     "execution_count": 72,
     "metadata": {},
     "output_type": "execute_result"
    }
   ],
   "source": [
    "#c\n",
    "# Partition data into training and validation sets\n",
    "X_train, X_test, y_train, y_test = train_test_split(X, y, test_size=0.3, random_state=1)\n",
    "\n",
    "# Scale input data for neural net classifier\n",
    "scaler = MinMaxScaler()\n",
    "X_train_scaled = scaler.fit_transform(X_train)\n",
    "X_test_scaled = scaler.transform(X_test)\n",
    "\n",
    "# Perform discriminant analysis on training set\n",
    "lda = LinearDiscriminantAnalysis()\n",
    "lda.fit(X_train, y_train)\n"
   ]
  },
  {
   "cell_type": "code",
   "execution_count": 73,
   "id": "29dd59e3",
   "metadata": {},
   "outputs": [
    {
     "name": "stderr",
     "output_type": "stream",
     "text": [
      "C:\\Users\\anish\\anaconda3\\lib\\site-packages\\sklearn\\neural_network\\_multilayer_perceptron.py:692: ConvergenceWarning: Stochastic Optimizer: Maximum iterations (1000) reached and the optimization hasn't converged yet.\n",
      "  warnings.warn(\n"
     ]
    }
   ],
   "source": [
    "# Evaluate performance on training set\n",
    "lda_train_score = lda.score(X_train, y_train)\n",
    "lda_test_score = lda.score(X_test, y_test)\n",
    "\n",
    "# Perform neural net classification on training set\n",
    "mlp = MLPClassifier(hidden_layer_sizes=(10,), max_iter=1000, random_state=1)\n",
    "mlp.fit(X_train_scaled, y_train)\n",
    "\n",
    "# Evaluate performance on training set\n",
    "mlp_train_score = mlp.score(X_train_scaled, y_train)\n",
    "mlp_test_score = mlp.score(X_test_scaled, y_test)\n"
   ]
  },
  {
   "cell_type": "code",
   "execution_count": 74,
   "id": "f7008c73",
   "metadata": {},
   "outputs": [
    {
     "name": "stdout",
     "output_type": "stream",
     "text": [
      "Discriminant analysis\n",
      "Training score: 0.8775510204081632\n",
      "Validation score: 0.9523809523809523\n",
      "Neural net\n",
      "Training score: 0.8571428571428571\n",
      "Validation score: 1.0\n"
     ]
    }
   ],
   "source": [
    "# Print results\n",
    "print(\"Discriminant analysis\")\n",
    "print(\"Training score:\", lda_train_score)\n",
    "print(\"Validation score:\", lda_test_score)\n",
    "print(\"Neural net\")\n",
    "print(\"Training score:\",mlp_train_score)\n",
    "print(\"Validation score:\",mlp_test_score)"
   ]
  },
  {
   "cell_type": "code",
   "execution_count": 75,
   "id": "3b506a68",
   "metadata": {},
   "outputs": [],
   "source": [
    "#Hence, the training score of Discriminant analysis is  grater than Neural net and while validation score is greater of Neural nets."
   ]
  }
 ],
 "metadata": {
  "kernelspec": {
   "display_name": "Python 3 (ipykernel)",
   "language": "python",
   "name": "python3"
  },
  "language_info": {
   "codemirror_mode": {
    "name": "ipython",
    "version": 3
   },
   "file_extension": ".py",
   "mimetype": "text/x-python",
   "name": "python",
   "nbconvert_exporter": "python",
   "pygments_lexer": "ipython3",
   "version": "3.9.13"
  }
 },
 "nbformat": 4,
 "nbformat_minor": 5
}
